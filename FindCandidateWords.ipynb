{
 "cells": [
  {
   "cell_type": "markdown",
   "metadata": {},
   "source": [
    "# Find Candidate Words\n",
    "\n",
    "Suppose you are working on a puzzle which is one of the many variants of Wordle and are stuck on a word - maybe you know some of the letters but can figure out how to arrange them to find the correct word.\n",
    "\n",
    "Below is a method you can use to create word hints."
   ]
  },
  {
   "cell_type": "markdown",
   "metadata": {},
   "source": [
    "Cesar Mugnatto  \n",
    "2024-03-03"
   ]
  },
  {
   "cell_type": "code",
   "execution_count": 1,
   "metadata": {},
   "outputs": [],
   "source": [
    "# Import the necessary libaries\n",
    "import itertools\n",
    "import numpy as np\n",
    "import requests\n",
    "import json"
   ]
  },
  {
   "cell_type": "code",
   "execution_count": 2,
   "metadata": {},
   "outputs": [],
   "source": [
    "# We will use this API to obtain a list of possible matching words given the known letters in your word\n",
    "# Full documentation of the API endpoints and syntax located at https://www.datamuse.com/api/\n",
    "api_url = \"https://api.datamuse.com/words?sp=\""
   ]
  },
  {
   "cell_type": "markdown",
   "metadata": {},
   "source": [
    "As an example, suppose you made 3 guesses which resulted in the following response:\n",
    "\n",
    "![Guesses](images/guesses.png)\n",
    "\n",
    "We know that the \"r\" in position 1 (using a 0-based index) is in the correct spot, and the \"a\" in position 2 is also correct. We know the letter \"t\" exists somewhere but not in position 3 which is what we guessed.\n",
    "\n",
    "Examining the \"keyboard\" where our guesses have been registered, we see that the letters Q, W, F, H, J, K, Z, X, C, V, B have not been used in any guesses yet, so all are still avaiable.\n",
    "\n",
    "![Available](images/remaining_letters.png)\n",
    "\n",
    "We would fill out the parameters `known_letters_loc` and `avail_letters` below with the relevant info."
   ]
  },
  {
   "cell_type": "code",
   "execution_count": 3,
   "metadata": {},
   "outputs": [],
   "source": [
    "# The length of the word you want to generate\n",
    "word_length = 5 # Typical for Wordle\n",
    "\n",
    "# The letters of the word you already know in the form (letter, position)\n",
    "# where letter is a single alphabetic character, and position is a value\n",
    "# between 0 and the length of the word - 1 (0-based indexing)\n",
    "# or -1 (signifying an unknown position)\n",
    "\n",
    "known_letters_loc = [\n",
    "      ('e', 1)\n",
    "    , ('d', 4)\n",
    "    , ('i', -1)\n",
    "    , ('t', -1)\n",
    "]\n",
    "\n",
    "# Letters that could still be used - we will add the known letters to these since letters can repeat within words\n",
    "avail_letters = ['q', 'w', 'f', 'h', 'j', 'k', 'z', 'x', 'c', 'v', 'b']"
   ]
  },
  {
   "cell_type": "code",
   "execution_count": 4,
   "metadata": {},
   "outputs": [
    {
     "data": {
      "text/plain": [
       "[('e', 1), ('d', 4)]"
      ]
     },
     "execution_count": 4,
     "metadata": {},
     "output_type": "execute_result"
    }
   ],
   "source": [
    "# First extract the letters for which we know their location\n",
    "fixed_letters = sorted([l for l in known_letters_loc if l[1] >= 0], key=lambda k: k[1])\n",
    "fixed_letters"
   ]
  },
  {
   "cell_type": "code",
   "execution_count": 5,
   "metadata": {},
   "outputs": [
    {
     "data": {
      "text/plain": [
       "{1: 'e', 4: 'd'}"
      ]
     },
     "execution_count": 5,
     "metadata": {},
     "output_type": "execute_result"
    }
   ],
   "source": [
    "# For easier processing, let's create  dict with keys = positions, and values = known letter\n",
    "dict_letters = {x[1]: x[0] for x in fixed_letters}\n",
    "dict_letters"
   ]
  },
  {
   "cell_type": "code",
   "execution_count": 6,
   "metadata": {},
   "outputs": [
    {
     "data": {
      "text/plain": [
       "['?', 'e', '?', '?', 'd']"
      ]
     },
     "execution_count": 6,
     "metadata": {},
     "output_type": "execute_result"
    }
   ],
   "source": [
    "# Create our wildcard pattern based on the position of letters whose positions we know, and question marks otherwise\n",
    "known_pattern = [dict_letters[i] if i in dict_letters.keys() else '?' for i in range(word_length)]\n",
    "known_pattern"
   ]
  },
  {
   "cell_type": "code",
   "execution_count": 7,
   "metadata": {},
   "outputs": [
    {
     "data": {
      "text/plain": [
       "[0, 2, 3]"
      ]
     },
     "execution_count": 7,
     "metadata": {},
     "output_type": "execute_result"
    }
   ],
   "source": [
    "# In order to start replacing widl card characters, we need the positions of unknown letters\n",
    "unknown_pos = [i for i in range(word_length) if i not in dict_letters.keys()]\n",
    "unknown_pos"
   ]
  },
  {
   "cell_type": "code",
   "execution_count": 8,
   "metadata": {},
   "outputs": [
    {
     "data": {
      "text/plain": [
       "['i', 't']"
      ]
     },
     "execution_count": 8,
     "metadata": {},
     "output_type": "execute_result"
    }
   ],
   "source": [
    "# Now let's get just the unknwon letters by themselves\n",
    "unknown_letters = [x[0] for x in sorted([l for l in known_letters_loc if l[1] < 0], key=lambda k: k[1])]\n",
    "unknown_letters"
   ]
  },
  {
   "cell_type": "code",
   "execution_count": 9,
   "metadata": {},
   "outputs": [
    {
     "data": {
      "text/plain": [
       "[(0, 2), (0, 3), (2, 3)]"
      ]
     },
     "execution_count": 9,
     "metadata": {},
     "output_type": "execute_result"
    }
   ],
   "source": [
    "# We need to know all of the possible combinations of unknown positions to do character replacement\n",
    "unknown_combos = list(itertools.combinations(unknown_pos, len(unknown_letters)))\n",
    "unknown_combos"
   ]
  },
  {
   "cell_type": "code",
   "execution_count": 10,
   "metadata": {},
   "outputs": [
    {
     "data": {
      "text/plain": [
       "[[(0, 2), (2, 0)], [(0, 3), (3, 0)], [(2, 3), (3, 2)]]"
      ]
     },
     "execution_count": 10,
     "metadata": {},
     "output_type": "execute_result"
    }
   ],
   "source": [
    "# Within each possible combinations of unknown positions we also need to permute their positions\n",
    "perms_unknown_combos = [list(itertools.permutations(x)) for x in unknown_combos]\n",
    "perms_unknown_combos"
   ]
  },
  {
   "cell_type": "code",
   "execution_count": 11,
   "metadata": {},
   "outputs": [
    {
     "data": {
      "text/plain": [
       "['iet?d', 'tei?d', 'ie?td', 'te?id', '?eitd', '?etid']"
      ]
     },
     "execution_count": 11,
     "metadata": {},
     "output_type": "execute_result"
    }
   ],
   "source": [
    "# Now finally we can build our patterns that we will feed to the API\n",
    "known_patterns = []\n",
    "for c in range(len(perms_unknown_combos)):\n",
    "    for p in range(len(perms_unknown_combos[c])):\n",
    "        tmp_pattern = known_pattern.copy()\n",
    "        #perms_unknown_combos[c][p]:\n",
    "        #print(list(zip(perms_unknown_combos[c][p], unknown_letters)))\n",
    "        for x in zip(perms_unknown_combos[c][p], unknown_letters):\n",
    "            tmp_pattern[x[0]] = x[1]\n",
    "        known_patterns.append(''.join(tmp_pattern))\n",
    "\n",
    "known_patterns"
   ]
  },
  {
   "cell_type": "code",
   "execution_count": 12,
   "metadata": {},
   "outputs": [
    {
     "data": {
      "text/plain": [
       "['e', 'd', 'i', 't']"
      ]
     },
     "execution_count": 12,
     "metadata": {},
     "output_type": "execute_result"
    }
   ],
   "source": [
    "# We also need just the letters without their position for calling the API\n",
    "known_letters = [l[0] for l in known_letters_loc]\n",
    "known_letters"
   ]
  },
  {
   "cell_type": "code",
   "execution_count": 13,
   "metadata": {},
   "outputs": [
    {
     "data": {
      "text/plain": [
       "['q', 'w', 'f', 'h', 'j', 'k', 'z', 'x', 'c', 'v', 'b', 'e', 'd', 'i', 't']"
      ]
     },
     "execution_count": 13,
     "metadata": {},
     "output_type": "execute_result"
    }
   ],
   "source": [
    "avail_letters.extend(known_letters)\n",
    "avail_letters"
   ]
  },
  {
   "cell_type": "code",
   "execution_count": 14,
   "metadata": {},
   "outputs": [
    {
     "name": "stdout",
     "output_type": "stream",
     "text": [
      "Filter: iet?d\n",
      "Result: []\n",
      "Filter: tei?d\n",
      "Result: ['teiid', 'teind']\n",
      "Filter: ie?td\n",
      "Result: []\n",
      "Filter: te?id\n",
      "Result: ['tepid', 'teiid']\n",
      "Filter: ?eitd\n",
      "Result: []\n",
      "Filter: ?etid\n",
      "Result: ['fetid', 'betid', 'netid']\n",
      "\n",
      "Final set of words from API of length 5:\n",
      "['teiid', 'teind', 'tepid', 'teiid', 'fetid', 'betid', 'netid']\n"
     ]
    }
   ],
   "source": [
    "# Now, loop through each of the query patterns calling the API\n",
    "candidate_words = []\n",
    "for p in known_patterns:\n",
    "    print(f\"Filter: {p}\")\n",
    "    req_url = api_url + p\n",
    "    resp = requests.get(req_url)\n",
    "    words = json.loads(resp.text)\n",
    "    # The API will return many words that do not match our required length so we filter out the non-matching lengths\n",
    "    good_words = [w['word'] for w in words if len(w['word'])==word_length]\n",
    "    print(f\"Result: {good_words}\")\n",
    "    if len(good_words) > 0:\n",
    "        # If we still have some words of the correct length remaining, add them to the list\n",
    "        candidate_words.extend(good_words)\n",
    "\n",
    "print(f\"\\nFinal set of words from API of length {word_length}:\\n{candidate_words}\")"
   ]
  },
  {
   "cell_type": "code",
   "execution_count": 15,
   "metadata": {},
   "outputs": [
    {
     "data": {
      "text/plain": [
       "array([['b', 'e', 't', 'i', 'd'],\n",
       "       ['f', 'e', 't', 'i', 'd'],\n",
       "       ['n', 'e', 't', 'i', 'd'],\n",
       "       ['t', 'e', 'i', 'i', 'd'],\n",
       "       ['t', 'e', 'i', 'n', 'd'],\n",
       "       ['t', 'e', 'p', 'i', 'd']], dtype='<U1')"
      ]
     },
     "execution_count": 15,
     "metadata": {},
     "output_type": "execute_result"
    }
   ],
   "source": [
    "# Now we can apply filtering on the remaining words where the letter and position are both known\n",
    "# First convert the letters in all of the words to a numpy array (syntactically easier to filter)\n",
    "candidate_arr = np.unique(np.array([list(w) for w in candidate_words]), axis=0)\n",
    "candidate_arr"
   ]
  },
  {
   "cell_type": "code",
   "execution_count": 16,
   "metadata": {},
   "outputs": [
    {
     "data": {
      "text/plain": [
       "array([['b', 'e', 't', 'i', 'd'],\n",
       "       ['f', 'e', 't', 'i', 'd'],\n",
       "       ['t', 'e', 'i', 'i', 'd']], dtype='<U1')"
      ]
     },
     "execution_count": 16,
     "metadata": {},
     "output_type": "execute_result"
    }
   ],
   "source": [
    "# We filter out any words that contain letters that have been determined not to exist in the word\n",
    "filtered_candidate_arr = np.array([x for x in candidate_arr.tolist() if len(set(x).difference(set(avail_letters))) == 0])\n",
    "filtered_candidate_arr"
   ]
  },
  {
   "cell_type": "code",
   "execution_count": 17,
   "metadata": {},
   "outputs": [
    {
     "name": "stdout",
     "output_type": "stream",
     "text": [
      "betid\n",
      "fetid\n",
      "teiid\n"
     ]
    }
   ],
   "source": [
    "if len(filtered_candidate_arr) < 1:\n",
    "    print(f'No words found containing the letters {\", \".join(avail_letters)}')\n",
    "else:\n",
    "    # Convert the array of letters remaining into words remaining and display them\n",
    "    list_candidate_words = [''.join(l) for l in filtered_candidate_arr]\n",
    "    for f in fixed_letters:\n",
    "        filtered_candidate_arr = filtered_candidate_arr[np.argwhere(filtered_candidate_arr[:, f[1]] == f[0]).reshape(1, -1)[0]]\n",
    "    print('\\n'.join(list_candidate_words))# Loop through each of the known letter positions and apply the filter of this letter to its position in the word"
   ]
  },
  {
   "cell_type": "markdown",
   "metadata": {},
   "source": [
    "If we had chosen:\n",
    "\n",
    "```python\n",
    "known_letters_loc = [\n",
    "      ('a', -1)\n",
    "    , ('i', 1)\n",
    "    , ('c', 4)\n",
    "    , ('l', -1)\n",
    "]\n",
    "```\n",
    "\n",
    "and for:\n",
    "\n",
    "```python\n",
    "avail_letters = ['q', 'z', 'x', 'j']\n",
    "```\n",
    "\n",
    "our result would have been displayed as the only word possible given our criteria:\n",
    "\n",
    "```text\n",
    "lilac\n",
    "```"
   ]
  }
 ],
 "metadata": {
  "kernelspec": {
   "display_name": "nlp_hw1",
   "language": "python",
   "name": "python3"
  },
  "language_info": {
   "codemirror_mode": {
    "name": "ipython",
    "version": 3
   },
   "file_extension": ".py",
   "mimetype": "text/x-python",
   "name": "python",
   "nbconvert_exporter": "python",
   "pygments_lexer": "ipython3",
   "version": "3.11.7"
  }
 },
 "nbformat": 4,
 "nbformat_minor": 2
}
