{
 "cells": [
  {
   "cell_type": "markdown",
   "metadata": {},
   "source": [
    "# Find Candidate Words\n",
    "\n",
    "Suppose you are working on a puzzle which is one of the many variants of Wordle and are stuck on a word - maybe you know some of the letters but can figure out how to arrange them to find the correct word.\n",
    "\n",
    "Below is a method you can use to create word hints."
   ]
  },
  {
   "cell_type": "markdown",
   "metadata": {},
   "source": [
    "Cesar Mugnatto  \n",
    "2024-03-03"
   ]
  },
  {
   "cell_type": "code",
   "execution_count": 1,
   "metadata": {},
   "outputs": [],
   "source": [
    "# Import the necessary libaries\n",
    "import itertools\n",
    "import numpy as np\n",
    "import requests\n",
    "import json"
   ]
  },
  {
   "cell_type": "code",
   "execution_count": 2,
   "metadata": {},
   "outputs": [],
   "source": [
    "# We will use this API to obtain a list of possible matching words given the known letters in your word\n",
    "# Full documentation of the API endpoints and syntax located at https://www.datamuse.com/api/\n",
    "api_url = \"https://api.datamuse.com/words?sp=\""
   ]
  },
  {
   "cell_type": "markdown",
   "metadata": {},
   "source": [
    "As an example, suppose you made 3 guesses which resulted in the following response:\n",
    "\n",
    "![Guesses](images/guesses.png)\n",
    "\n",
    "We know that the \"r\" in position 1 (using a 0-based index) is in the correct spot, and the \"a\" in position 2 is also correct. We know the letter \"t\" exists somewhere but not in position 3 which is what we guessed.\n",
    "\n",
    "Examining the \"keyboard\" where our guesses have been registered, we see that the letters Q, W, F, H, J, K, Z, X, C, V, B have not been used in any guesses yet, so all are still avaiable.\n",
    "\n",
    "![Available](images/remaining_letters.png)\n",
    "\n",
    "We would fill out the parameters `known_letters_loc` and `avail_letters` below with the relevant info."
   ]
  },
  {
   "cell_type": "code",
   "execution_count": 3,
   "metadata": {},
   "outputs": [],
   "source": [
    "# The length of the word you want to generate\n",
    "word_length = 5 # Typical for Wordle\n",
    "\n",
    "# The letters of the word you already know in the form (letter, position)\n",
    "# where letter is a single alphabetic character, and position is a value\n",
    "# between 0 and the length of the word - 1 (0-based indexing)\n",
    "# or -1 (signifying an unknown position)\n",
    "\n",
    "known_letters_loc = [\n",
    "      ('a', 2)\n",
    "    , ('r', 1)\n",
    "    , ('t', -1)\n",
    "]\n",
    "\n",
    "# Letters that could still be used - we will add the known letters to these since letters can repeat within words\n",
    "avail_letters = ['q', 'w', 'f', 'h', 'j', 'k', 'z', 'x', 'c', 'v', 'b']"
   ]
  },
  {
   "cell_type": "code",
   "execution_count": 4,
   "metadata": {},
   "outputs": [
    {
     "data": {
      "text/plain": [
       "[('r', 1), ('a', 2)]"
      ]
     },
     "execution_count": 4,
     "metadata": {},
     "output_type": "execute_result"
    }
   ],
   "source": [
    "# First extract the letters for which we know their location\n",
    "fixed_letters = sorted([l for l in known_letters_loc if l[1] >= 0], key=lambda k: k[1])\n",
    "fixed_letters"
   ]
  },
  {
   "cell_type": "code",
   "execution_count": 5,
   "metadata": {},
   "outputs": [
    {
     "data": {
      "text/plain": [
       "['a', 'r', 't']"
      ]
     },
     "execution_count": 5,
     "metadata": {},
     "output_type": "execute_result"
    }
   ],
   "source": [
    "# We also need just the letters without their position for calling the API\n",
    "known_letters = [l[0] for l in known_letters_loc]\n",
    "known_letters"
   ]
  },
  {
   "cell_type": "code",
   "execution_count": 6,
   "metadata": {},
   "outputs": [
    {
     "data": {
      "text/plain": [
       "['q', 'w', 'f', 'h', 'j', 'k', 'z', 'x', 'c', 'v', 'b', 'a', 'r', 't']"
      ]
     },
     "execution_count": 6,
     "metadata": {},
     "output_type": "execute_result"
    }
   ],
   "source": [
    "avail_letters.extend(known_letters)\n",
    "avail_letters"
   ]
  },
  {
   "cell_type": "code",
   "execution_count": 7,
   "metadata": {},
   "outputs": [
    {
     "data": {
      "text/plain": [
       "[('a', 'r', 't'),\n",
       " ('a', 't', 'r'),\n",
       " ('r', 'a', 't'),\n",
       " ('r', 't', 'a'),\n",
       " ('t', 'a', 'r'),\n",
       " ('t', 'r', 'a')]"
      ]
     },
     "execution_count": 7,
     "metadata": {},
     "output_type": "execute_result"
    }
   ],
   "source": [
    "# To call the API, we need to pass all possible permutations of the letters which we know exist\n",
    "known_combos = list(itertools.permutations(known_letters))\n",
    "known_combos"
   ]
  },
  {
   "cell_type": "code",
   "execution_count": 8,
   "metadata": {},
   "outputs": [
    {
     "data": {
      "text/plain": [
       "['*a*r*t*', '*a*t*r*', '*r*a*t*', '*r*t*a*', '*t*a*r*', '*t*r*a*']"
      ]
     },
     "execution_count": 8,
     "metadata": {},
     "output_type": "execute_result"
    }
   ],
   "source": [
    "# From those permutations, build the query portion of the API\n",
    "known_patterns = ['*'+('*'.join(c))+'*' for c in known_combos]\n",
    "known_patterns"
   ]
  },
  {
   "cell_type": "code",
   "execution_count": 9,
   "metadata": {},
   "outputs": [
    {
     "name": "stdout",
     "output_type": "stream",
     "text": [
      "['darth', 'tarot', 'tatar', 'treat', 'tract', 'trait', 'wrath', 'taper', 'tarry', 'tardy', 'tiara', 'taser', 'tears', 'tapir', 'treat', 'tread', 'trial', 'ultra', 'tetra', 'tiara', 'terra', 'torah']\n"
     ]
    }
   ],
   "source": [
    "# Now, loop through each of the query patterns calling the API\n",
    "candidate_words = []\n",
    "for p in known_patterns:\n",
    "    req_url = api_url + p\n",
    "    resp = requests.get(req_url)\n",
    "    words = json.loads(resp.text)\n",
    "    # The API will return many words that do not match our required length so we filter out the non-matching lengths\n",
    "    good_words = [w['word'] for w in words if len(w['word'])==word_length]\n",
    "    if len(good_words) > 0:\n",
    "        # If we still have some words of the correct length remaining, add them to the list\n",
    "        candidate_words.extend(good_words)\n",
    "\n",
    "print(candidate_words)"
   ]
  },
  {
   "cell_type": "code",
   "execution_count": 10,
   "metadata": {},
   "outputs": [
    {
     "data": {
      "text/plain": [
       "array([['d', 'a', 'r', 't', 'h'],\n",
       "       ['t', 'a', 'p', 'e', 'r'],\n",
       "       ['t', 'a', 'p', 'i', 'r'],\n",
       "       ['t', 'a', 'r', 'd', 'y'],\n",
       "       ['t', 'a', 'r', 'o', 't'],\n",
       "       ['t', 'a', 'r', 'r', 'y'],\n",
       "       ['t', 'a', 's', 'e', 'r'],\n",
       "       ['t', 'a', 't', 'a', 'r'],\n",
       "       ['t', 'e', 'a', 'r', 's'],\n",
       "       ['t', 'e', 'r', 'r', 'a'],\n",
       "       ['t', 'e', 't', 'r', 'a'],\n",
       "       ['t', 'i', 'a', 'r', 'a'],\n",
       "       ['t', 'o', 'r', 'a', 'h'],\n",
       "       ['t', 'r', 'a', 'c', 't'],\n",
       "       ['t', 'r', 'a', 'i', 't'],\n",
       "       ['t', 'r', 'e', 'a', 'd'],\n",
       "       ['t', 'r', 'e', 'a', 't'],\n",
       "       ['t', 'r', 'i', 'a', 'l'],\n",
       "       ['u', 'l', 't', 'r', 'a'],\n",
       "       ['w', 'r', 'a', 't', 'h']], dtype='<U1')"
      ]
     },
     "execution_count": 10,
     "metadata": {},
     "output_type": "execute_result"
    }
   ],
   "source": [
    "# Now we can apply filtering on the remaining words where the letter and position are both known\n",
    "# First convert the letters in all of the words to a numpy array (syntactically easier to filter)\n",
    "candidate_arr = np.unique(np.array([list(w) for w in candidate_words]), axis=0)\n",
    "candidate_arr"
   ]
  },
  {
   "cell_type": "code",
   "execution_count": 11,
   "metadata": {},
   "outputs": [
    {
     "data": {
      "text/plain": [
       "array([['t', 'a', 't', 'a', 'r'],\n",
       "       ['t', 'r', 'a', 'c', 't'],\n",
       "       ['w', 'r', 'a', 't', 'h']], dtype='<U1')"
      ]
     },
     "execution_count": 11,
     "metadata": {},
     "output_type": "execute_result"
    }
   ],
   "source": [
    "# We filter out any words that contain letters that have been determined not to exist in the word\n",
    "filtered_candidate_arr = np.array([x for x in candidate_arr.tolist() if len(set(x).difference(set(avail_letters))) == 0])\n",
    "filtered_candidate_arr"
   ]
  },
  {
   "cell_type": "code",
   "execution_count": 12,
   "metadata": {},
   "outputs": [
    {
     "name": "stdout",
     "output_type": "stream",
     "text": [
      "tract\n",
      "wrath\n"
     ]
    }
   ],
   "source": [
    "# Loop through each of the known letter positions and apply the filter of this letter to its position in the word\n",
    "for f in fixed_letters:\n",
    "    filtered_candidate_arr = filtered_candidate_arr[np.argwhere(filtered_candidate_arr[:, f[1]] == f[0]).reshape(1, -1)[0]]\n",
    "\n",
    "# Convert the array of letters remaining into words remaining and display them\n",
    "list_candidate_words = [''.join(l) for l in filtered_candidate_arr]\n",
    "print('\\n'.join(list_candidate_words))"
   ]
  },
  {
   "cell_type": "markdown",
   "metadata": {},
   "source": [
    "If we had chosen:\n",
    "\n",
    "```python\n",
    "known_letters_loc = [\n",
    "      ('a', -1)\n",
    "    , ('i', 1)\n",
    "    , ('c', 4)\n",
    "    , ('l', -1)\n",
    "]\n",
    "```\n",
    "\n",
    "and for:\n",
    "\n",
    "```python\n",
    "avail_letters = ['q', 'z', 'x', 'j']\n",
    "```\n",
    "\n",
    "our result would have been displayed as the only word possibel given our criteria:\n",
    "\n",
    "```text\n",
    "lilac\n",
    "```"
   ]
  },
  {
   "cell_type": "markdown",
   "metadata": {},
   "source": []
  }
 ],
 "metadata": {
  "kernelspec": {
   "display_name": "nlp_hw1",
   "language": "python",
   "name": "python3"
  },
  "language_info": {
   "codemirror_mode": {
    "name": "ipython",
    "version": 3
   },
   "file_extension": ".py",
   "mimetype": "text/x-python",
   "name": "python",
   "nbconvert_exporter": "python",
   "pygments_lexer": "ipython3",
   "version": "3.11.7"
  }
 },
 "nbformat": 4,
 "nbformat_minor": 2
}
