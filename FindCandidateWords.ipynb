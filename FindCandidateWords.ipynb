{
 "cells": [
  {
   "cell_type": "markdown",
   "metadata": {},
   "source": [
    "# Find Candidate Words\n",
    "\n",
    "Suppose you are working on a puzzle which is one of the many variants of Wordle and are stuck on a word - maybe you know some of the letters but can figure out how to arrange them to find the correct word.\n",
    "\n",
    "Below is a method you can use to create word hints."
   ]
  },
  {
   "cell_type": "code",
   "execution_count": 1,
   "metadata": {},
   "outputs": [],
   "source": [
    "# Import the necessary libaries\n",
    "import itertools\n",
    "import numpy as np\n",
    "import requests\n",
    "import json"
   ]
  },
  {
   "cell_type": "code",
   "execution_count": 2,
   "metadata": {},
   "outputs": [],
   "source": [
    "# We will use this API to obtain a list of possible matching words given the known letters in your word\n",
    "# Full documentation of the API endpoints and syntax located at https://www.datamuse.com/api/\n",
    "api_url = \"https://api.datamuse.com/words?sp=\""
   ]
  },
  {
   "cell_type": "code",
   "execution_count": 3,
   "metadata": {},
   "outputs": [],
   "source": [
    "# The length of the word you want to generate\n",
    "word_length = 5 # Typical for Wordle\n",
    "\n",
    "# The letters of the word you already know in the form (letter, position)\n",
    "# where letter is a single alphabetic character, and position is a value\n",
    "# between 0 and the length of the word - 1 (0-based indexing)\n",
    "# or -1 (signifying an unknown position)\n",
    "\n",
    "# This is just an example where we know the letter \"i\" will be in position 1, and \"c\" in position 4\n",
    "# We also know that the word contains the letters \"a\" and \"l\" but without knowing the exat position\n",
    "# The actual word is \"lilac\"\n",
    "known_letters_loc = [\n",
    "      ('a', -1)\n",
    "    , ('i', 1)\n",
    "    , ('c', 4)\n",
    "    , ('l', -1)\n",
    "]"
   ]
  },
  {
   "cell_type": "code",
   "execution_count": 4,
   "metadata": {},
   "outputs": [
    {
     "data": {
      "text/plain": [
       "[('i', 1), ('c', 4)]"
      ]
     },
     "execution_count": 4,
     "metadata": {},
     "output_type": "execute_result"
    }
   ],
   "source": [
    "# First extract the letters for which we know their location\n",
    "fixed_letters = sorted([l for l in known_letters_loc if l[1] >= 0], key=lambda k: k[1])\n",
    "fixed_letters"
   ]
  },
  {
   "cell_type": "code",
   "execution_count": 5,
   "metadata": {},
   "outputs": [
    {
     "data": {
      "text/plain": [
       "['a', 'i', 'c', 'l']"
      ]
     },
     "execution_count": 5,
     "metadata": {},
     "output_type": "execute_result"
    }
   ],
   "source": [
    "# We also need just the letters without their position for calling the API\n",
    "known_letters = [l[0] for l in known_letters_loc]\n",
    "known_letters"
   ]
  },
  {
   "cell_type": "code",
   "execution_count": 6,
   "metadata": {},
   "outputs": [
    {
     "data": {
      "text/plain": [
       "[('a', 'i', 'c', 'l'),\n",
       " ('a', 'i', 'l', 'c'),\n",
       " ('a', 'c', 'i', 'l'),\n",
       " ('a', 'c', 'l', 'i'),\n",
       " ('a', 'l', 'i', 'c'),\n",
       " ('a', 'l', 'c', 'i'),\n",
       " ('i', 'a', 'c', 'l'),\n",
       " ('i', 'a', 'l', 'c'),\n",
       " ('i', 'c', 'a', 'l'),\n",
       " ('i', 'c', 'l', 'a'),\n",
       " ('i', 'l', 'a', 'c'),\n",
       " ('i', 'l', 'c', 'a'),\n",
       " ('c', 'a', 'i', 'l'),\n",
       " ('c', 'a', 'l', 'i'),\n",
       " ('c', 'i', 'a', 'l'),\n",
       " ('c', 'i', 'l', 'a'),\n",
       " ('c', 'l', 'a', 'i'),\n",
       " ('c', 'l', 'i', 'a'),\n",
       " ('l', 'a', 'i', 'c'),\n",
       " ('l', 'a', 'c', 'i'),\n",
       " ('l', 'i', 'a', 'c'),\n",
       " ('l', 'i', 'c', 'a'),\n",
       " ('l', 'c', 'a', 'i'),\n",
       " ('l', 'c', 'i', 'a')]"
      ]
     },
     "execution_count": 6,
     "metadata": {},
     "output_type": "execute_result"
    }
   ],
   "source": [
    "# To call the API, we need to pass all possible permutations of the letters which we know exist\n",
    "known_combos = list(itertools.permutations(known_letters))\n",
    "known_combos"
   ]
  },
  {
   "cell_type": "code",
   "execution_count": 7,
   "metadata": {},
   "outputs": [
    {
     "data": {
      "text/plain": [
       "['*a*i*c*l*',\n",
       " '*a*i*l*c*',\n",
       " '*a*c*i*l*',\n",
       " '*a*c*l*i*',\n",
       " '*a*l*i*c*',\n",
       " '*a*l*c*i*',\n",
       " '*i*a*c*l*',\n",
       " '*i*a*l*c*',\n",
       " '*i*c*a*l*',\n",
       " '*i*c*l*a*',\n",
       " '*i*l*a*c*',\n",
       " '*i*l*c*a*',\n",
       " '*c*a*i*l*',\n",
       " '*c*a*l*i*',\n",
       " '*c*i*a*l*',\n",
       " '*c*i*l*a*',\n",
       " '*c*l*a*i*',\n",
       " '*c*l*i*a*',\n",
       " '*l*a*i*c*',\n",
       " '*l*a*c*i*',\n",
       " '*l*i*a*c*',\n",
       " '*l*i*c*a*',\n",
       " '*l*c*a*i*',\n",
       " '*l*c*i*a*']"
      ]
     },
     "execution_count": 7,
     "metadata": {},
     "output_type": "execute_result"
    }
   ],
   "source": [
    "# From those permutations, build the query portion of the API\n",
    "known_patterns = ['*'+('*'.join(c))+'*' for c in known_combos]\n",
    "known_patterns"
   ]
  },
  {
   "cell_type": "code",
   "execution_count": 8,
   "metadata": {},
   "outputs": [
    {
     "name": "stdout",
     "output_type": "stream",
     "text": [
      "['calic', 'alice', 'lilac', 'iliac', 'ileac', 'cavil', 'cilia', 'claim', 'clair', 'cilia', 'lilac', 'iliac', 'linac', 'lucia']\n"
     ]
    }
   ],
   "source": [
    "# Now, loop through each of the query patterns calling the API\n",
    "candidate_words = []\n",
    "for p in known_patterns:\n",
    "    req_url = api_url + p\n",
    "    resp = requests.get(req_url)\n",
    "    words = json.loads(resp.text)\n",
    "    # The API will return many words that do not match our required length so we filter out the non-matching lengths\n",
    "    good_words = [w['word'] for w in words if len(w['word'])==word_length]\n",
    "    if len(good_words) > 0:\n",
    "        # If we still have some words of the correct length remaining, add them to the list\n",
    "        candidate_words.extend(good_words)\n",
    "\n",
    "print(candidate_words)"
   ]
  },
  {
   "cell_type": "code",
   "execution_count": 9,
   "metadata": {},
   "outputs": [
    {
     "data": {
      "text/plain": [
       "array([['a', 'l', 'i', 'c', 'e'],\n",
       "       ['c', 'a', 'l', 'i', 'c'],\n",
       "       ['c', 'a', 'v', 'i', 'l'],\n",
       "       ['c', 'i', 'l', 'i', 'a'],\n",
       "       ['c', 'l', 'a', 'i', 'm'],\n",
       "       ['c', 'l', 'a', 'i', 'r'],\n",
       "       ['i', 'l', 'e', 'a', 'c'],\n",
       "       ['i', 'l', 'i', 'a', 'c'],\n",
       "       ['l', 'i', 'l', 'a', 'c'],\n",
       "       ['l', 'i', 'n', 'a', 'c'],\n",
       "       ['l', 'u', 'c', 'i', 'a']], dtype='<U1')"
      ]
     },
     "execution_count": 9,
     "metadata": {},
     "output_type": "execute_result"
    }
   ],
   "source": [
    "# Now we can apply filtering on the remaining words where the letter and position are both known\n",
    "# First convert the letters in all of the words to a numpy array (syntactically easier to filter)\n",
    "candidate_arr = np.unique(np.array([list(w) for w in candidate_words]), axis=0)\n",
    "candidate_arr"
   ]
  },
  {
   "cell_type": "code",
   "execution_count": 10,
   "metadata": {},
   "outputs": [
    {
     "name": "stdout",
     "output_type": "stream",
     "text": [
      "['lilac', 'linac']\n"
     ]
    }
   ],
   "source": [
    "# Loop through each of the known letter positions and apply the filter of this letter to its position int he word\n",
    "for f in fixed_letters:\n",
    "    candidate_arr = candidate_arr[np.argwhere(candidate_arr[:, f[1]] == f[0]).reshape(1, -1)[0]]\n",
    "\n",
    "# Convert the array of letters remaining into words remaining and display them\n",
    "list_candidate_words = [''.join(l) for l in candidate_arr]\n",
    "print(list_candidate_words)"
   ]
  }
 ],
 "metadata": {
  "kernelspec": {
   "display_name": "nlp_hw1",
   "language": "python",
   "name": "python3"
  },
  "language_info": {
   "codemirror_mode": {
    "name": "ipython",
    "version": 3
   },
   "file_extension": ".py",
   "mimetype": "text/x-python",
   "name": "python",
   "nbconvert_exporter": "python",
   "pygments_lexer": "ipython3",
   "version": "3.11.7"
  }
 },
 "nbformat": 4,
 "nbformat_minor": 2
}
